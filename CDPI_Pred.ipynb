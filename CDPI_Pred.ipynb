{
 "cells": [
  {
   "cell_type": "code",
   "execution_count": 1,
   "id": "1db23bf4-ee0a-4fc5-8716-241417508e82",
   "metadata": {
    "scrolled": true
   },
   "outputs": [
    {
     "name": "stderr",
     "output_type": "stream",
     "text": [
      "Loading required package: ggplot2\n",
      "\n",
      "Warning message:\n",
      "“package ‘ggplot2’ was built under R version 4.3.3”\n",
      "Loading required package: lattice\n",
      "\n",
      "Warning message:\n",
      "“package ‘lattice’ was built under R version 4.3.3”\n",
      "Warning message:\n",
      "“package ‘dplyr’ was built under R version 4.3.2”\n",
      "\n",
      "Attaching package: ‘dplyr’\n",
      "\n",
      "\n",
      "The following objects are masked from ‘package:stats’:\n",
      "\n",
      "    filter, lag\n",
      "\n",
      "\n",
      "The following objects are masked from ‘package:base’:\n",
      "\n",
      "    intersect, setdiff, setequal, union\n",
      "\n",
      "\n",
      "randomForest 4.7-1.1\n",
      "\n",
      "Type rfNews() to see new features/changes/bug fixes.\n",
      "\n",
      "\n",
      "Attaching package: ‘randomForest’\n",
      "\n",
      "\n",
      "The following object is masked from ‘package:dplyr’:\n",
      "\n",
      "    combine\n",
      "\n",
      "\n",
      "The following object is masked from ‘package:ggplot2’:\n",
      "\n",
      "    margin\n",
      "\n",
      "\n"
     ]
    }
   ],
   "source": [
    "# Loading necessary packages\n",
    "library(caret)\n",
    "library(dplyr)\n",
    "library(randomForest)\n"
   ]
  },
  {
   "cell_type": "code",
   "execution_count": 2,
   "id": "6e0fbdb5-bb3c-45c4-9574-c5c2b14b9fb3",
   "metadata": {},
   "outputs": [],
   "source": [
    "# function to load data from a specified file path\n",
    "load_data <- function(file_path) {\n",
    "        data <- read.csv(file_path,sep = \"\\t\",header = TRUE)\n",
    "        data[,2] <- as.factor(data[,2])\n",
    "        return(data)\n",
    "}\n",
    "\n",
    "# Load the trained model\n",
    "load(\"/path/to/file/random_forest_model.RData\")\n",
    "\n",
    "# V4 - V22 are \"AF\" features; V23 - V41 are \"DC\" features\n",
    "selected_features <- c(\"V13\",\"V32\",\"V35\",\"V29\",\"V26\",\"V33\",\"V38\",\"V31\",\"V30\",\"V23\",\"V34\",\"V41\",\"V36\",\"V27\",\"V28\",\"V37\",\"V39\",\"V40\",\"V24\",\"V25\",\"V12\",\"V14\",\"V15\",\"V9\",\"V18\",\"V21\",\"V10\",\"V20\",\"V8\",\"V7\",\"V19\",\"V5\",\"V4\",\"V11\",\"V6\",\"V17\",\"V22\",\"V16\")\n",
    "test_data <- load_data(\"/path/to/file/test.data\")\n",
    "test_data_x <- test_data[, selected_features]\n",
    "\n",
    "predictions <- predict(model, test_data_x)\n",
    "predicted_prob <- predict(model, test_data_x, type=\"prob\")\n"
   ]
  },
  {
   "cell_type": "code",
   "execution_count": 3,
   "id": "23061147-23b2-47a6-ae7f-f5fd59ff7cd5",
   "metadata": {},
   "outputs": [
    {
     "name": "stdout",
     "output_type": "stream",
     "text": [
      "[1] \"Test Accuracy: 95.9183673469388 %\"\n"
     ]
    }
   ],
   "source": [
    "# Save the prediction results and comparison results to a file.\n",
    "save_predictions_and_comparisons <- function(test_data, predictions, predicted_prob, output_file) {\n",
    "        true_labels <- test_data[, 2]\n",
    "        mutation_id <- test_data[, 1]\n",
    "        comparison <- data.frame(Mutation_ID = mutation_id, True_Label = true_labels, Prediction = predictions, Prob = predicted_prob)\n",
    "        # Calculate Accuracy\n",
    "        accuracy <- sum(comparison$True_Label == comparison$Prediction) / nrow(comparison)\n",
    "        print(paste(\"Test Accuracy:\", accuracy * 100, \"%\"))\n",
    "\n",
    "        # Save the results of the comparison to a file\n",
    "        write.csv(comparison, file=output_file, row.names=FALSE)\n",
    "}\n",
    "\n",
    "save_predictions_and_comparisons(test_data, predictions, predicted_prob, \"/path/to/file/test.data.predicted_results\")"
   ]
  },
  {
   "cell_type": "code",
   "execution_count": null,
   "id": "56a1ddcd-3a0b-4973-82b7-63387bba7c30",
   "metadata": {},
   "outputs": [],
   "source": []
  }
 ],
 "metadata": {
  "kernelspec": {
   "display_name": "R [conda env:.conda-Jupyter] *",
   "language": "R",
   "name": "conda-env-.conda-Jupyter-r"
  },
  "language_info": {
   "codemirror_mode": "r",
   "file_extension": ".r",
   "mimetype": "text/x-r-source",
   "name": "R",
   "pygments_lexer": "r",
   "version": "4.3.1"
  }
 },
 "nbformat": 4,
 "nbformat_minor": 5
}
